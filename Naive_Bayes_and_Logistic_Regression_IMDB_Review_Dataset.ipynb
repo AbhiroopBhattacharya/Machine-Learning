{
  "nbformat": 4,
  "nbformat_minor": 0,
  "metadata": {
    "kernelspec": {
      "display_name": "Python 3",
      "language": "python",
      "name": "python3"
    },
    "language_info": {
      "codemirror_mode": {
        "name": "ipython",
        "version": 3
      },
      "file_extension": ".py",
      "mimetype": "text/x-python",
      "name": "python",
      "nbconvert_exporter": "python",
      "pygments_lexer": "ipython3",
      "version": "3.8.5"
    },
    "colab": {
      "name": "Naive Bayes and Logistic Regression_IMDB Review Dataset.ipynb",
      "provenance": []
    }
  },
  "cells": [
    {
      "cell_type": "code",
      "metadata": {
        "id": "qzIYaqZ2ivhC"
      },
      "source": [
        "# Importing the required packages \n",
        "\n",
        "import pandas as pd\n",
        "import numpy as np\n",
        "from os import listdir\n",
        "from os.path import isfile, join\n",
        "import re\n",
        "import sklearn\n",
        "from sklearn.datasets import fetch_20newsgroups\n",
        "from sklearn.feature_extraction.text import CountVectorizer\n",
        "from sklearn.naive_bayes import MultinomialNB\n",
        "from sklearn.linear_model import LogisticRegression\n",
        "from sklearn.model_selection import train_test_split\n",
        "from sklearn.feature_extraction.text import TfidfVectorizer\n",
        "from sklearn import metrics\n",
        "from scipy import sparse\n",
        "import matplotlib.pyplot as plt\n",
        "from matplotlib.ticker import FuncFormatter\n",
        "from os import system\n",
        "from nltk.corpus import stopwords as stw\n",
        "from sklearn.metrics import plot_confusion_matrix\n",
        "from sklearn.svm import SVC"
      ],
      "execution_count": null,
      "outputs": []
    },
    {
      "cell_type": "code",
      "metadata": {
        "id": "WVafETvMivhG"
      },
      "source": [
        "# Loading the IMDB dataset \n",
        "def load_imdb():\n",
        "    # Loading the IMDB reviews dataset after downloading the tarfile from website\n",
        "    imdb_tar=tarfile.open(\"aclImdb_v1.tar.gz\",\"r:gz\")\n",
        "    imdb_tar.extractall()\n",
        "    imdb_tar.close()\n",
        "    # Creating data frame\n",
        "    imdb_train = create_data_frame('aclImdb/train')\n",
        "    imdb_test = create_data_frame('aclImdb/test')\n",
        "    system(\"mkdir 'csv'\")\n",
        "    imdb_train.to_csv('csv/imdb_train.csv', index=False)\n",
        "    imdb_test.to_csv('csv/imdb_test.csv', index=False)\n",
        "\n",
        "# Creating a dataframe out of the IMDB dataset to enable easy manipulation of data    \n",
        "\n",
        "def create_data_frame(folder: str) -> pd.DataFrame:\n",
        "    '''\n",
        "    folder - the root folder of train or test dataset\n",
        "    Returns: a DataFrame with the combined data from the input folder\n",
        "    '''\n",
        "    pos_folder = f'{folder}/pos'  # positive reviews\n",
        "    neg_folder = f'{folder}/neg'  # negative reviews\n",
        "\n",
        "    def get_files(fld: str) -> list:\n",
        "        '''\n",
        "        fld - positive or negative reviews folder\n",
        "        Returns: a list with all files in input folder\n",
        "        '''\n",
        "        return [join(fld, f) for f in listdir(fld) if isfile(join(fld, f))]\n",
        "\n",
        "    def append_files_data(data_list: list, files: list, label: int) -> None:\n",
        "        '''\n",
        "        Appends to 'data_list' tuples of form (file content, label)\n",
        "        for each file in 'files' input list\n",
        "        '''\n",
        "        for file_path in files:\n",
        "            with open(file_path, 'r') as f:\n",
        "                text = f.read()\n",
        "                data_list.append((text, label))\n",
        "\n",
        "    pos_files = get_files(pos_folder)\n",
        "    neg_files = get_files(neg_folder)\n",
        "\n",
        "    data_list = []\n",
        "    append_files_data(data_list, pos_files, 1)\n",
        "    append_files_data(data_list, neg_files, 0)\n",
        "    shuffle(data_list)\n",
        "\n",
        "    text, label = tuple(zip(*data_list))\n",
        "\n",
        "    # replacing line breaks with spaces\n",
        "    text = list(map(lambda txt: re.sub('(<br\\\\s*/?>)+', ' ', txt), text))\n",
        "\n",
        "    return pd.DataFrame({'text': text, 'label': label})"
      ],
      "execution_count": null,
      "outputs": []
    },
    {
      "cell_type": "code",
      "metadata": {
        "id": "gqIsxpqVivhH"
      },
      "source": [
        "# Implementing the Multinomial Naive Bayes function\n",
        "\n",
        "\n",
        "class Multinomial_NB():\n",
        "\n",
        "    def __init__(self, alpha=1):\n",
        "        self.alpha = alpha\n",
        "\n",
        "    def fit(self, x_t, y_t):\n",
        "        X_train = x_t\n",
        "        y_train = np.array(y_t)\n",
        "        m, n = X_train.shape\n",
        "        self.classes = np.unique(y_train)\n",
        "        n_classes = len(self.classes)\n",
        "\n",
        "        # init: Prior & Likelihood\n",
        "        self.priors = np.zeros(n_classes)\n",
        "        self.likelihoods = np.zeros((n_classes, n))\n",
        "\n",
        "        # Get Prior and Likelihood\n",
        "        for i, c in enumerate(self.classes):\n",
        "            X_train_c = X_train[c == y_train]\n",
        "            self.priors[i] = X_train_c.shape[0] / m\n",
        "            self.likelihoods[i, :] = ((X_train_c.sum(axis=0)) + self.alpha) / (np.sum(X_train_c.sum(axis=0) + self.alpha))\n",
        "\n",
        "    def predict(self, X_test):\n",
        "        return [self._predict(x_test) for x_test in X_test]\n",
        "\n",
        "    def _predict(self, x_te):\n",
        "        # Calculate posterior for each class\n",
        "        x_test = x_te\n",
        "        posteriors = []\n",
        "        for i, c in enumerate(self.classes):\n",
        "            prior_c = np.log(self.priors[i])\n",
        "            likelihoods_c = self.calc_likelihood(self.likelihoods[i, :], x_test)\n",
        "            posteriors_c = np.sum(likelihoods_c) + prior_c\n",
        "            posteriors.append(posteriors_c)\n",
        "        return self.classes[np.argmax(posteriors)]\n",
        "\n",
        "    def calc_likelihood(self, cls_likeli, x_test):\n",
        "        return sparse.csr_matrix(np.log(cls_likeli)).multiply(x_test)\n",
        "\n",
        "    def score(self, X_test, y_test):\n",
        "        y_pred = self.predict(X_test)\n",
        "        return np.sum(y_pred == y_test) / len(y_test)"
      ],
      "execution_count": null,
      "outputs": []
    },
    {
      "cell_type": "code",
      "metadata": {
        "id": "zdqEdLFpivhI"
      },
      "source": [
        "# Function to Load the dataset \n",
        "\n",
        "def load_data(name, remove_headers=False):\n",
        "    if name == \"20newsgroup\":\n",
        "    # Loading the dataset -Found twenty news group one directly on scikit learn\n",
        "        if remove_headers:\n",
        "            data_train = fetch_20newsgroups(subset='train', shuffle=True, random_state=123,remove=('headers', 'footers','quotes'))\n",
        "            data_test = fetch_20newsgroups(subset='test', shuffle=True, random_state=123,remove=('headers', 'footers', 'quotes'))\n",
        "        else:\n",
        "            data_train = fetch_20newsgroups(subset='train', shuffle=True, random_state=21)\n",
        "            data_test = fetch_20newsgroups(subset='test', shuffle=True, random_state=21)\n",
        "\n",
        "    elif name == \"IMDB_review\":\n",
        "        # Loading the IMDB tarfile. Run this code when downloading the dataset first time.\n",
        "        # load_imdb()\n",
        "        # Reading csv is much faster\n",
        "        data_train = pd.read_csv(r'C:\\Users\\satya\\Downloads\\imdb_train.csv')\n",
        "        data_test = pd.read_csv(r'C:\\Users\\satya\\Downloads\\imdb_test.csv')\n",
        "\n",
        "    else:\n",
        "        print(\" Incorrect dataset name. Please select either 20 news group or IMDB Review dataset\")\n",
        "        data_train, data_test = [],[]\n",
        "\n",
        "    return data_train, data_test\n"
      ],
      "execution_count": null,
      "outputs": []
    },
    {
      "cell_type": "code",
      "metadata": {
        "id": "bbIR4LgtivhJ"
      },
      "source": [
        "# Function to do Feature Engineering\n",
        "\n",
        "def feature_engineering(data_train, data_test, d_name, countvec=False, countvec_bigram=False, tfidfvec=False):\n",
        "    if countvec:\n",
        "    # Converting into text- used count vectorizer but its not going to be good\n",
        "        if d_name ==\"20newsgroup\":\n",
        "            vector_format = CountVectorizer(stop_words=stw.words('english'), analyzer='word', lowercase=True,\n",
        "                                            preprocessor=my_tokenizer, max_features = 2000) # Remove Stopwords\n",
        "            x_train_whole = vector_format.fit_transform(data_train.data)\n",
        "            y_train_whole = data_train.target\n",
        "            x_test = vector_format.transform(data_test.data)\n",
        "            y_test = data_test.target\n",
        "        else:\n",
        "            # IMDB datset\n",
        "            vector_format = CountVectorizer(stop_words=stw.words('english'), analyzer='word', lowercase=True,\n",
        "                                            preprocessor=my_tokenizer, max_features = 2000)\n",
        "            x_train_whole = vector_format.fit_transform(data_train['text'].values)\n",
        "            y_train_whole = data_train['label'].values\n",
        "            x_test = vector_format.transform(data_test['text'].values)\n",
        "            y_test = data_test['label'].values\n",
        "\n",
        "    elif countvec_bigram:\n",
        "        if d_name == \"20newsgroup\":\n",
        "            vector_format = CountVectorizer(stop_words=stw.words('english'), analyzer='word', lowercase=True,\n",
        "                                            preprocessor=my_tokenizer, ngram_range=(1,2), max_features = 2000)\n",
        "            x_train_whole = vector_format.fit_transform(data_train.data)\n",
        "            y_train_whole = data_train.target\n",
        "            x_test = vector_format.transform(data_test.data)\n",
        "            y_test = data_test.target\n",
        "        else:\n",
        "            vector_format = CountVectorizer(stop_words=stw.words('english'), analyzer='word', lowercase=True,\n",
        "                                            preprocessor=my_tokenizer, ngram_range=(1, 2), max_features = 2000)\n",
        "            x_train_whole = vector_format.fit_transform(data_train['text'].values)\n",
        "            y_train_whole = data_train['label'].values\n",
        "            x_test = vector_format.transform(data_test['text'].values)\n",
        "            y_test = data_test['label'].values\n",
        "\n",
        "    elif tfidfvec:\n",
        "        # Converting into TF-IDf Vector\n",
        "        if d_name == \"20newsgroup\":\n",
        "            tfd_ifd = TfidfVectorizer(stop_words=stw.words('english'), analyzer='word', lowercase=True,\n",
        "                                      preprocessor=my_tokenizer, max_features = 2000)\n",
        "            x_train_whole = tfd_ifd.fit_transform(data_train.data)\n",
        "            y_train_whole = data_train.target\n",
        "            x_test = tfd_ifd.transform(data_test.data)\n",
        "            y_test = data_test.target\n",
        "\n",
        "        else:\n",
        "            # IMDB datset\n",
        "            tfd_ifd = TfidfVectorizer(stop_words=stw.words('english'), analyzer='word', lowercase=True,\n",
        "                                      preprocessor=my_tokenizer, max_features = 2000)\n",
        "            x_train_whole = tfd_ifd.fit_transform(data_train['text'].values)\n",
        "            y_train_whole = data_train['label'].values\n",
        "            x_test = tfd_ifd.transform(data_test['text'].values)\n",
        "            y_test = data_test['label'].values\n",
        "\n",
        "    else:\n",
        "        print(\"Feature Engineering method not supported\")\n",
        "        x_train_whole, y_train_whole, x_test, y_test = [], [], [], []\n",
        "\n",
        "    return x_train_whole, y_train_whole, x_test, y_test\n"
      ],
      "execution_count": null,
      "outputs": []
    },
    {
      "cell_type": "code",
      "metadata": {
        "id": "H-WYhkxnivhK"
      },
      "source": [
        "# Function to split training data into Validation and train\n",
        "\n",
        "def val_train_split(x_tr,y_tr, train_percent):\n",
        "    l = x_tr.shape[0]\n",
        "    x, y = sklearn.utils.shuffle(x_tr, y_tr, random_state=1234)\n",
        "    split = round( train_percent*l)\n",
        "    if str(type(x)) == \"<class 'scipy.sparse.csr.csr_matrix'>\":\n",
        "        indices = range(0, split)\n",
        "        mask = np.zeros(x.shape[0], dtype=bool)\n",
        "        mask[indices] = True\n",
        "        x_t = x[mask]\n",
        "        y_t = y[mask]\n",
        "        x_v = x[split:]\n",
        "        y_v = y[split:]\n",
        "\n",
        "    elif str(type(x)) == \"<type 'numpy.ndarray'>\":\n",
        "        x_t = np.concatenate((x[:split], x[split:]))\n",
        "        y_t = np.concatenate((y[:split], y[split:]))\n",
        "        x_v = x[split:]\n",
        "        y_v = y[split]\n",
        "    else:\n",
        "        print(\" Format not recognised\")\n",
        "        x_t, y_t, x_v, y_v = [], [], [], []\n",
        "    return x_t, y_t,x_v, y_v\n"
      ],
      "execution_count": null,
      "outputs": []
    },
    {
      "cell_type": "code",
      "metadata": {
        "id": "uIrHxWRxivhL"
      },
      "source": [
        "# Function to train and predict the Multinomial Naive Bayes class for the dataset.\n",
        "\n",
        "def Mult_NB(x_train, y_train, x_test, y_test, a=0.01):\n",
        "    clf_NB = Multinomial_NB(alpha=a)\n",
        "    clf_NB.fit(x_train, y_train)\n",
        "    pred_test = clf_NB.predict(x_test)\n",
        "    accuracy_NB_test = eval_acc(y_test, pred_test)\n",
        "    pred_train = clf_NB.predict(x_train)\n",
        "    accuracy_NB_train = eval_acc(y_train, pred_train)\n",
        "    return accuracy_NB_test, accuracy_NB_train\n"
      ],
      "execution_count": null,
      "outputs": []
    },
    {
      "cell_type": "code",
      "metadata": {
        "id": "04B5CqzLivhL"
      },
      "source": [
        "#  Function to train and predict the scikit learn implementation of the Logistic Regression method.\n",
        "\n",
        "def LR (x_train, y_train, x_test, y_test, norm='l2', solv='liblinear', reg=10, mi=100):\n",
        "    # Fitting Plain vanilla Logistic regression Model\n",
        "    clf_lg = LogisticRegression(solver=solv, C=reg, penalty=norm, max_iter=mi, tol=0.01)\n",
        "    clf_lg.fit(x_train, y_train)\n",
        "    pred_test = clf_lg.predict(x_test)\n",
        "    # accuracy_lg_test = metrics.accuracy_score(y_test, pred_test)\n",
        "    accuracy_lg_test = eval_acc(y_test, pred_test)\n",
        "    pred_train = clf_lg.predict(x_train)\n",
        "    #accuracy_lg_train = metrics.accuracy_score(y_train, pred_train)\n",
        "    accuracy_lg_train = eval_acc(y_train, pred_train)\n",
        "    return accuracy_lg_test, accuracy_lg_train,\n"
      ],
      "execution_count": null,
      "outputs": []
    },
    {
      "cell_type": "code",
      "metadata": {
        "id": "vo9YaxoQivhM"
      },
      "source": [
        "# Implementing K-Fold Cross Validation split \n",
        "\n",
        "def cross_validation_split(x_tr, y_tr, L, i):\n",
        "    l = x_tr.shape[0]\n",
        "    x, y = sklearn.utils.shuffle(x_tr, y_tr, random_state=1234)\n",
        "    ratio = l/L\n",
        "    start = round(ratio * i)\n",
        "    end = round(ratio * (i + 1))\n",
        "    if str(type(x)) == \"<class 'scipy.sparse.csr.csr_matrix'>\":\n",
        "        indices = range(start, end)\n",
        "        mask = np.ones(x.shape[0], dtype=bool)\n",
        "        mask[indices] = False\n",
        "        x_t = x[mask]\n",
        "        y_t = y[mask]\n",
        "        x_v = x[start:end]\n",
        "        y_v = y[start:end]\n",
        "\n",
        "    elif str(type(x)) == \"<type 'numpy.ndarray'>\":\n",
        "        x_t = np.concatenate((x[:start], x[end:]))\n",
        "        y_t = np.concatenate((y[:start], y[end:]))\n",
        "        x_v = x[start:end]\n",
        "        y_v = y[start:end]\n",
        "    else:\n",
        "        print(\" Format not recognised\")\n",
        "        x_t, y_t, x_v, y_v = [], [], [], []\n",
        "    return x_t, y_t,x_v, y_v\n",
        "\n",
        "\n",
        "def kfoldCV(x, y, method, L,alpha=0.05 ,max_iter=100, solv='saga', reg=10):\n",
        "    val_acc_train, val_acc_test = [], []\n",
        "    for i in range(0, L):\n",
        "        x_t, y_t, x_v, y_v = cross_validation_split(x, y, L, i)\n",
        "        if method == \"NB\":\n",
        "            a_test, a_train = Mult_NB(x_t, y_t, x_v, y_v, a=alpha)\n",
        "        elif method == \"LR\":\n",
        "            a_test, a_train = LR(x_t, y_t, x_v, y_v, solv=solv, reg=reg, mi=max_iter )\n",
        "        else:\n",
        "            print(\"Method not correct\")\n",
        "            a_test, a_train = 0,0\n",
        "        val_acc_train.append(a_train)\n",
        "        val_acc_test.append(a_test)\n",
        "\n",
        "    return np.mean(val_acc_test), np.mean(val_acc_train)\n"
      ],
      "execution_count": null,
      "outputs": []
    },
    {
      "cell_type": "code",
      "metadata": {
        "id": "EI_y6USoivhN"
      },
      "source": [
        "# Defining custom functions\n",
        "\n",
        "# Pre process the dataset\n",
        "\n",
        "def my_tokenizer(t):\n",
        "\n",
        "    #no_html = BeautifulSoup(t, features=\"html.parser\").get_text()\n",
        "\n",
        "    #clean = re.sub(\"[^a-z\\s]+\", \" \", no_html, flags=re.IGNORECASE)\n",
        "\n",
        "    # remove punctuations\n",
        "    t1 = re.sub(r\"[-,.;:@#?!_%&$`]+\", ' ', t)\n",
        "\n",
        "    # print(f\"remove punctuation {t1}\")\n",
        "\n",
        "    # # # remove html markup\n",
        "    text = re.sub(r\"(<.*>)\", \"\", t1)\n",
        "    # # print(f\"remove html {text}\")\n",
        "\n",
        "    # remove non-ascii and digits\n",
        "    text = re.sub(\"(\\\\W|\\\\d\\\\br)\", \" \", text)\n",
        "    # print(f\"remove ascii and disgits {text}\")\n",
        "\n",
        "    # replace multiple spaces with a single space\n",
        "    text = re.sub(r\"\\s+\", \" \", text)\n",
        "    # print(f\"remove mspaces {text}\")\n",
        "\n",
        "    return text\n",
        "\n",
        "\n",
        "# Evaluate Accuracy \n",
        "def eval_acc(y, y_pred):\n",
        "    accuracy = np.sum(y_pred == y) / y.shape[0]\n",
        "    return accuracy\n",
        "\n",
        "# Plotting two line graphs on same plot\n",
        "def double_plot(x_list, y_list, y1_list, filename, x_label, y_label, plot_name, legend):\n",
        "    fig = plt.figure()\n",
        "    sb = fig.add_subplot(1, 1, 1)\n",
        "    plt.plot(x_list, y_list, linewidth=2, color='r',label=legend[0])\n",
        "    plt.plot(x_list, y1_list, linewidth=2,color='b', label=legend[1])\n",
        "    plt.xlabel(x_label)\n",
        "    plt.ylabel(y_label)\n",
        "    plt.xticks(x_list)\n",
        "    sb.yaxis.set_major_formatter(FuncFormatter('{0:.0%}'.format))\n",
        "    header = plot_name + \" Metrics: \" + filename\n",
        "    plt.title(header)\n",
        "    plt.legend(loc=\"upper right\")\n",
        "    # plt.savefig(header)\n",
        "    # plt.close(fig)\n"
      ],
      "execution_count": null,
      "outputs": []
    },
    {
      "cell_type": "code",
      "metadata": {
        "id": "t2AyXepfivhN"
      },
      "source": [
        "name = \"IMDB_review\"\n",
        "d_train, d_test = load_data(name, remove_headers=True)"
      ],
      "execution_count": null,
      "outputs": []
    },
    {
      "cell_type": "code",
      "metadata": {
        "id": "vUz5Y5dvivhO"
      },
      "source": [
        "# Count Vector without Stopwords\n",
        "x_train_w, y_train_w, x_test, y_test = feature_engineering(d_train, d_test, name, countvec=True)"
      ],
      "execution_count": null,
      "outputs": []
    },
    {
      "cell_type": "code",
      "metadata": {
        "id": "Bjs1J7krivhO"
      },
      "source": [
        "# Count Vector with Bigram w/o Stopwords\n",
        "x_train_w, y_train_w, x_test, y_test = feature_engineering(d_train, d_test, d_name=name, countvec_bigram=True)\n"
      ],
      "execution_count": null,
      "outputs": []
    },
    {
      "cell_type": "code",
      "metadata": {
        "id": "sf0o9lVwivhP"
      },
      "source": [
        "# TF-IDF Vector w/o Stopwords\n",
        "x_train_w, y_train_w, x_test, y_test = feature_engineering(d_train, d_test, name, tfidfvec=True)"
      ],
      "execution_count": null,
      "outputs": []
    },
    {
      "cell_type": "code",
      "metadata": {
        "id": "wwTd1tGuivhP"
      },
      "source": [
        "# Spltting into train and validate\n",
        "x_train, y_train, x_val, y_val = val_train_split(x_train_w, y_train_w, train_percent=0.7)"
      ],
      "execution_count": null,
      "outputs": []
    },
    {
      "cell_type": "code",
      "metadata": {
        "id": "vi4Ro4auivhQ",
        "outputId": "30a973f1-ffa6-438c-854c-365813412c5e"
      },
      "source": [
        "# Hyper Parameter tuning using Cross Validation For Naive Bayes Classifier \n",
        "alpha_list = [0.1, 0.2, 0.3, 0.4, 0.5, 0.6, 0.7, 0.8, 0.9, 1]\n",
        "acc_list_test, acc_list_train = [], []\n",
        "for a in alpha_list:\n",
        "    accuracy_NB_test, accuracy_NB_train = kfoldCV(x_train_w, y_train_w, method='NB', L=5, alpha=a)\n",
        "    acc_list_test.append(accuracy_NB_test)\n",
        "    acc_list_train.append(accuracy_NB_train)\n",
        "fig = plt.figure()\n",
        "sb = fig.add_subplot(1, 1, 1)\n",
        "plt.plot(alpha_list, acc_list_test, linewidth=2,color='r', label=\"Validation Accuracy\")\n",
        "plt.xlabel(\"Alpha\")\n",
        "plt.ylabel(\"Accuracy\")\n",
        "plt.xticks(alpha_list)\n",
        "sb.yaxis.set_major_formatter(FuncFormatter('{0:.0%}'.format))\n",
        "header = \"Naive Bayes\" + \" Alpha: \" + name\n",
        "plt.title(header)\n",
        "plt.legend(loc=\"upper right\")\n",
        "plt.show()\n",
        "plt.close(fig)\n"
      ],
      "execution_count": null,
      "outputs": [
        {
          "output_type": "display_data",
          "data": {
            "image/png": "[encoded data removed]",
            "text/plain": [
              "<Figure size 432x288 with 1 Axes>"
            ]
          },
          "metadata": {
            "tags": [],
            "needs_background": "light"
          }
        }
      ]
    },
    {
      "cell_type": "code",
      "metadata": {
        "id": "AixboEd9ivhR",
        "outputId": "37cf380e-9a1c-4a3d-833f-e1b3690edd37"
      },
      "source": [
        "# Hyper Parameter tuning using Cross Validation For Logistic Regression Classifier \n",
        "\n",
        "C_list = [0.1, 1, 10, 20]\n",
        "acc_list_test, acc_list_train = [], []\n",
        "for r in C_list:\n",
        "    accuracy_NB_test, accuracy_NB_train = kfoldCV(x_train_w, y_train_w,solv='saga', method='LR', L=5, reg=r)\n",
        "    acc_list_test.append(accuracy_NB_test)\n",
        "    acc_list_train.append(accuracy_NB_train)\n",
        "fig = plt.figure()\n",
        "sb = fig.add_subplot(1, 1, 1)\n",
        "plt.plot(C_list, acc_list_test, linewidth=2,color='r', label=\"Validation Accuracy\")\n",
        "plt.xlabel(\"Regularization Coefficient\")\n",
        "plt.ylabel(\"Accuracy\")\n",
        "plt.xticks(C_list)\n",
        "sb.yaxis.set_major_formatter(FuncFormatter('{0:.0%}'.format))\n",
        "header = \"Logistic Regression\" + \" Lambda: \" + name\n",
        "plt.title(header)\n",
        "plt.legend(loc=\"upper right\")\n",
        "plt.show()\n",
        "plt.close(fig)\n",
        "\n",
        "    "
      ],
      "execution_count": null,
      "outputs": [
        {
          "output_type": "display_data",
          "data": {
            "image/png": "[encoded data removed]",
            "text/plain": [
              "<Figure size 432x288 with 1 Axes>"
            ]
          },
          "metadata": {
            "tags": [],
            "needs_background": "light"
          }
        }
      ]
    },
    {
      "cell_type": "code",
      "metadata": {
        "id": "xE2EvdsJivhS",
        "outputId": "fc3b11af-6280-4336-f1c5-78ae4a4d3370"
      },
      "source": [
        "# Exploring the effect of changing regularisation coefficient for Logistic Regression\n",
        "\n",
        "iter_list = [100, 200, 400, 500, 1000]\n",
        "acc_list_test, acc_list_train = [], []\n",
        "for n in iter_list:\n",
        "    accuracy_NB_test, accuracy_NB_train = kfoldCV(x_train_w, y_train_w, solv='saga', method='LR', L=5, max_iter=n)\n",
        "    acc_list_test.append(accuracy_NB_test)\n",
        "    acc_list_train.append(accuracy_NB_train)\n",
        "fig = plt.figure()\n",
        "sb = fig.add_subplot(1, 1, 1)\n",
        "plt.plot(iter_list, acc_list_test, linewidth=2, color='r', label=\"Validation Accuracy\")\n",
        "plt.xlabel(\"Maximum Iteration\")\n",
        "plt.ylabel(\"Accuracy\")\n",
        "plt.title(\"Max Iteration:IMDB Review\")\n",
        "plt.xticks(iter_list)\n",
        "sb.yaxis.set_major_formatter(FuncFormatter('{0:.2%}'.format))\n",
        "plt.legend(loc=\"upper right\")\n",
        "plt.show()\n",
        "plt.close(fig)"
      ],
      "execution_count": null,
      "outputs": [
        {
          "output_type": "display_data",
          "data": {
            "image/png": "[encoded data removed]",
            "text/plain": [
              "<Figure size 432x288 with 1 Axes>"
            ]
          },
          "metadata": {
            "tags": [],
            "needs_background": "light"
          }
        }
      ]
    },
    {
      "cell_type": "code",
      "metadata": {
        "id": "3i2NVpinivhT",
        "outputId": "d934bc0f-c7c2-4b34-dec0-39d9d504736c"
      },
      "source": [
        "reg_list = ['liblinear', 'newton-cg', 'lbfgs', 'sag','saga']\n",
        "acc_list_test, acc_list_train = [], []\n",
        "for r in reg_list:\n",
        "    accuracy_NB_test, accuracy_NB_train = kfoldCV(x_train_w, y_train_w, solv=r, method='LR', L=5, reg=10)\n",
        "    acc_list_test.append(accuracy_NB_test)\n",
        "    acc_list_train.append(accuracy_NB_train)\n",
        "fig = plt.figure()\n",
        "sb = fig.add_subplot(1, 1, 1)\n",
        "plt.plot(reg_list, acc_list_test, linewidth=2, color='r', label=\"Validation Accuracy\")\n",
        "plt.xlabel(\"Solver\")\n",
        "plt.ylabel(\"Accuracy\")\n",
        "plt.title(\"Solver:IMDB Review\")\n",
        "plt.xticks(reg_list)\n",
        "sb.yaxis.set_major_formatter(FuncFormatter('{0:.2%}'.format))\n",
        "plt.legend(loc=\"upper right\")\n",
        "plt.show()\n",
        "plt.close(fig)"
      ],
      "execution_count": null,
      "outputs": [
        {
          "output_type": "stream",
          "text": [
            "C:\\Users\\satya\\anaconda3\\lib\\site-packages\\sklearn\\linear_model\\_logistic.py:762: ConvergenceWarning: lbfgs failed to converge (status=1):\n",
            "STOP: TOTAL NO. of ITERATIONS REACHED LIMIT.\n",
            "\n",
            "Increase the number of iterations (max_iter) or scale the data as shown in:\n",
            "    https://scikit-learn.org/stable/modules/preprocessing.html\n",
            "Please also refer to the documentation for alternative solver options:\n",
            "    https://scikit-learn.org/stable/modules/linear_model.html#logistic-regression\n",
            "  n_iter_i = _check_optimize_result(\n",
            "C:\\Users\\satya\\anaconda3\\lib\\site-packages\\sklearn\\linear_model\\_logistic.py:762: ConvergenceWarning: lbfgs failed to converge (status=1):\n",
            "STOP: TOTAL NO. of ITERATIONS REACHED LIMIT.\n",
            "\n",
            "Increase the number of iterations (max_iter) or scale the data as shown in:\n",
            "    https://scikit-learn.org/stable/modules/preprocessing.html\n",
            "Please also refer to the documentation for alternative solver options:\n",
            "    https://scikit-learn.org/stable/modules/linear_model.html#logistic-regression\n",
            "  n_iter_i = _check_optimize_result(\n",
            "C:\\Users\\satya\\anaconda3\\lib\\site-packages\\sklearn\\linear_model\\_logistic.py:762: ConvergenceWarning: lbfgs failed to converge (status=1):\n",
            "STOP: TOTAL NO. of ITERATIONS REACHED LIMIT.\n",
            "\n",
            "Increase the number of iterations (max_iter) or scale the data as shown in:\n",
            "    https://scikit-learn.org/stable/modules/preprocessing.html\n",
            "Please also refer to the documentation for alternative solver options:\n",
            "    https://scikit-learn.org/stable/modules/linear_model.html#logistic-regression\n",
            "  n_iter_i = _check_optimize_result(\n"
          ],
          "name": "stderr"
        },
        {
          "output_type": "display_data",
          "data": {
            "image/png": "[encoded data removed]",
            "text/plain": [
              "<Figure size 432x288 with 1 Axes>"
            ]
          },
          "metadata": {
            "tags": [],
            "needs_background": "light"
          }
        }
      ]
    },
    {
      "cell_type": "code",
      "metadata": {
        "id": "E2eNk3E8ivhU",
        "outputId": "3b5c3b45-fa1d-4ce6-d414-2f262ff6e168"
      },
      "source": [
        "data_size_list = [ 0.2, 0.4, 0.6, 0.8,1]\n",
        "acc_list_test, acc_list_train = [], []\n",
        "for p in data_size_list:\n",
        "    x_train, y_train, x_val, y_val = val_train_split(x_train_w, y_train_w, train_percent=p)\n",
        "    a_test, a_train = LR(x_train, y_train, x_test, y_test, solv='liblinear', norm='l2', mi=100, reg=10)\n",
        "    acc_list_test.append(a_test)\n",
        "    acc_list_train.append(a_train)\n",
        "fig = plt.figure()\n",
        "sb = fig.add_subplot(1, 1, 1)\n",
        "plt.plot(data_size_list, acc_list_train, linewidth=2, color='r',label=\"Train Accuracy\")\n",
        "plt.plot(data_size_list, acc_list_test, linewidth=2,color='b', label=\"Test Accuracy\")\n",
        "plt.xlabel(\"Training data size\")\n",
        "plt.ylabel(\"Accuracy\")\n",
        "plt.xticks(data_size_list)\n",
        "sb.yaxis.set_major_formatter(FuncFormatter('{0:.0%}'.format))\n",
        "header = \"Logistic Regression\" + \" Training Data Size: \" + name\n",
        "plt.title(header)\n",
        "plt.legend(loc=\"upper right\")\n",
        "plt.show()\n",
        "plt.close(fig)\n"
      ],
      "execution_count": null,
      "outputs": [
        {
          "output_type": "display_data",
          "data": {
            "image/png": "[encoded data removed]",
            "text/plain": [
              "<Figure size 432x288 with 1 Axes>"
            ]
          },
          "metadata": {
            "tags": [],
            "needs_background": "light"
          }
        }
      ]
    },
    {
      "cell_type": "code",
      "metadata": {
        "id": "tvQ6GQD-ivhV",
        "outputId": "20125dbc-d1ec-4c88-93ab-9405339651b9"
      },
      "source": [
        "data_size_list = [0.2, 0.4, 0.6, 0.8, 1]\n",
        "acc_list_test, acc_list_train = [], []\n",
        "for p in data_size_list:\n",
        "    x_train, y_train, x_val, y_val = val_train_split(x_train_w, y_train_w, train_percent=p)\n",
        "    a_test, a_train = Mult_NB(x_train,y_train,x_test, y_test, a=0.05)\n",
        "    acc_list_test.append(a_test)\n",
        "    acc_list_train.append(a_train)\n",
        "double_plot(data_size_list, acc_list_train, acc_list_test, name + \" Train Size\",\n",
        "                  x_label=\"Train Size\", y_label=\"Accuracy\", plot_name=\"Naive Bayes\", legend=[\"Train\", \"Test\"])\n"
      ],
      "execution_count": null,
      "outputs": [
        {
          "output_type": "display_data",
          "data": {
            "image/png": "[encoded data removed]",
            "text/plain": [
              "<Figure size 432x288 with 1 Axes>"
            ]
          },
          "metadata": {
            "tags": [],
            "needs_background": "light"
          }
        }
      ]
    },
    {
      "cell_type": "code",
      "metadata": {
        "id": "P4ATKQACivhV",
        "outputId": "394c0960-fecb-4475-e145-1969fc01ee11"
      },
      "source": [
        "# Reporting best combination on Test data\n",
        "Accuracy_Test_NB, _ = Mult_NB(x_train_w,y_train_w,x_test, y_test, a=0.6)\n",
        "print(f\"NB Accuracy Test :{Accuracy_Test_NB}\")\n",
        "\n",
        "Accuracy_Test_LR, _ = LR(x_train_w, y_train_w, x_test, y_test, solv='saga', norm='l2', mi=500, reg=10)\n",
        "print(f\"LR Accuracy Test :{Accuracy_Test_LR}\")"
      ],
      "execution_count": null,
      "outputs": [
        {
          "output_type": "stream",
          "text": [
            "NB Accuracy Test :0.84096\n",
            "LR Accuracy Test :0.86732\n"
          ],
          "name": "stdout"
        }
      ]
    },
    {
      "cell_type": "code",
      "metadata": {
        "id": "J-WSVZE3ivhW",
        "outputId": "643ccfb2-d6a8-41c1-d902-6ed844640e60"
      },
      "source": [
        "# Plotting the Confusion Matrix and Generating the classification report\n",
        "clf_lg = LogisticRegression(solver='saga', penalty='l2', max_iter=500, C=10, tol=0.001)\n",
        "clf_lg.fit(x_train, y_train)\n",
        "plot_confusion_matrix(clf_lg, x_test, y_test)  \n",
        "plt.title('Logistic Regression: IMDB Review')\n",
        "\n",
        "clf_NB = MultinomialNB(alpha=0.6)\n",
        "clf_NB.fit(x_train, y_train)\n",
        "plot_confusion_matrix(clf_NB, x_test, y_test)  \n",
        "plt.title('Naive Bayes: IMDB Reivew')\n",
        "plt.show()\n"
      ],
      "execution_count": null,
      "outputs": [
        {
          "output_type": "display_data",
          "data": {
            "image/png": "[encoded data removed]",
            "text/plain": [
              "<Figure size 432x288 with 2 Axes>"
            ]
          },
          "metadata": {
            "tags": [],
            "needs_background": "light"
          }
        },
        {
          "output_type": "display_data",
          "data": {
            "image/png": "[encoded data removed]",
            "text/plain": [
              "<Figure size 432x288 with 2 Axes>"
            ]
          },
          "metadata": {
            "tags": [],
            "needs_background": "light"
          }
        }
      ]
    },
    {
      "cell_type": "code",
      "metadata": {
        "id": "ia_D8iEvivhX"
      },
      "source": [
        "def classifier_svc(x_train, y_train, x_test, y_test, k,c):\n",
        "    clf_svc = SVC(kernel=k, C=c)\n",
        "    clf_svc.fit(x_train, y_train)\n",
        "    pred_test = clf_svc.predict(x_test)\n",
        "    accuracy_lg_test = metrics.accuracy_score(y_test, pred_test)\n",
        "    return accuracy_lg_test"
      ],
      "execution_count": null,
      "outputs": []
    },
    {
      "cell_type": "code",
      "metadata": {
        "id": "GwBJh7wWivhX",
        "outputId": "7be8e64c-c50e-4012-dc7b-6848e39c3415"
      },
      "source": [
        "# Running Support Vector Classifier \n",
        "\n",
        "Accuracy_Test_svc = classifier_svc(x_train_w, y_train_w, x_test, y_test,k=\"linear\", c=0.5)\n",
        "print(f\"svc Accuracy Test :{Accuracy_Test_svc}\")\n"
      ],
      "execution_count": null,
      "outputs": [
        {
          "output_type": "stream",
          "text": [
            "LR Accuracy Test :0.8718\n"
          ],
          "name": "stdout"
        }
      ]
    },
    {
      "cell_type": "code",
      "metadata": {
        "id": "_BdZfBu8ivhY",
        "outputId": "afee4eda-f931-41bc-e95c-576036d4d807"
      },
      "source": [
        "# Bagging reduces the Variance but increases the bias\n",
        "\n",
        "from sklearn.ensemble import BaggingClassifier\n",
        "    \n",
        "clf_lr = LogisticRegression(solver='saga', C=10, penalty='l2', max_iter=100, tol=0.001)\n",
        "bag_lr = BaggingClassifier(clf_lr, random_state=2, max_samples=0.5, max_features=0.5)\n",
        "bag_lr.fit(x_train_w, y_train_w)\n",
        "acc_blr = bag_lr.score(x_test, y_test)\n",
        "print(acc_blr)\n",
        "    \n",
        "clf_NB = MultinomialNB(alpha=0.05)\n",
        "bag_lr = BaggingClassifier(clf_NB, random_state=2, max_samples=0.5, max_features=0.5)\n",
        "bag_lr.fit(x_train_w, y_train_w)\n",
        "acc_blr = bag_lr.score(x_test, y_test)\n",
        "print(acc_blr)"
      ],
      "execution_count": null,
      "outputs": [
        {
          "output_type": "stream",
          "text": [
            "0.86664\n",
            "0.83992\n"
          ],
          "name": "stdout"
        }
      ]
    },
    {
      "cell_type": "code",
      "metadata": {
        "id": "FGWPhO7AivhY"
      },
      "source": [
        ""
      ],
      "execution_count": null,
      "outputs": []
    },
    {
      "cell_type": "code",
      "metadata": {
        "id": "jPeYm571ivhY"
      },
      "source": [
        ""
      ],
      "execution_count": null,
      "outputs": []
    }
  ]
}